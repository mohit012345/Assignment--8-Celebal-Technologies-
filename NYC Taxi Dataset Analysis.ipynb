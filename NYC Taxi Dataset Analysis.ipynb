{
  "nbformat": 4,
  "nbformat_minor": 0,
  "metadata": {
    "colab": {
      "provenance": [],
      "toc_visible": true
    },
    "kernelspec": {
      "name": "python3",
      "display_name": "Python 3"
    },
    "language_info": {
      "name": "python"
    }
  },
  "cells": [
    {
      "cell_type": "code",
      "execution_count": 1,
      "metadata": {
        "colab": {
          "base_uri": "https://localhost:8080/",
          "height": 0
        },
        "id": "9YJIcRRmXJgW",
        "outputId": "01c17396-3d2c-46f2-f596-4a690cd6255b"
      },
      "outputs": [
        {
          "output_type": "stream",
          "name": "stdout",
          "text": [
            "Requirement already satisfied: pyspark in /usr/local/lib/python3.11/dist-packages (3.5.1)\n",
            "Requirement already satisfied: py4j==0.10.9.7 in /usr/local/lib/python3.11/dist-packages (from pyspark) (0.10.9.7)\n"
          ]
        }
      ],
      "source": [
        "!pip install pyspark\n"
      ]
    },
    {
      "cell_type": "markdown",
      "source": [],
      "metadata": {
        "id": "q5CGcY_1czqX"
      }
    },
    {
      "cell_type": "code",
      "source": [
        "from pyspark.sql import SparkSession\n",
        "\n",
        "\n",
        "spark = SparkSession.builder \\\n",
        "    .appName(\"NYC Taxi Analysis\") \\\n",
        "    .getOrCreate()\n",
        "\n",
        "\n",
        "print(\"Spark session created!\")\n"
      ],
      "metadata": {
        "colab": {
          "base_uri": "https://localhost:8080/",
          "height": 0
        },
        "id": "1Rf93mw0XOj8",
        "outputId": "184efa84-5e8f-4acc-a210-c8bcf4d25cd5"
      },
      "execution_count": 2,
      "outputs": [
        {
          "output_type": "stream",
          "name": "stdout",
          "text": [
            "Spark session created!\n"
          ]
        }
      ]
    },
    {
      "cell_type": "code",
      "source": [
        "from google.colab import files\n",
        "uploaded = files.upload()\n"
      ],
      "metadata": {
        "colab": {
          "base_uri": "https://localhost:8080/",
          "height": 73
        },
        "id": "3TDhgwc5XOmR",
        "outputId": "e11fd654-bd78-4a68-c559-ab14ae146208"
      },
      "execution_count": 3,
      "outputs": [
        {
          "output_type": "display_data",
          "data": {
            "text/plain": [
              "<IPython.core.display.HTML object>"
            ],
            "text/html": [
              "\n",
              "     <input type=\"file\" id=\"files-97eb7387-2b15-48de-8b7e-41621ac7317a\" name=\"files[]\" multiple disabled\n",
              "        style=\"border:none\" />\n",
              "     <output id=\"result-97eb7387-2b15-48de-8b7e-41621ac7317a\">\n",
              "      Upload widget is only available when the cell has been executed in the\n",
              "      current browser session. Please rerun this cell to enable.\n",
              "      </output>\n",
              "      <script>// Copyright 2017 Google LLC\n",
              "//\n",
              "// Licensed under the Apache License, Version 2.0 (the \"License\");\n",
              "// you may not use this file except in compliance with the License.\n",
              "// You may obtain a copy of the License at\n",
              "//\n",
              "//      http://www.apache.org/licenses/LICENSE-2.0\n",
              "//\n",
              "// Unless required by applicable law or agreed to in writing, software\n",
              "// distributed under the License is distributed on an \"AS IS\" BASIS,\n",
              "// WITHOUT WARRANTIES OR CONDITIONS OF ANY KIND, either express or implied.\n",
              "// See the License for the specific language governing permissions and\n",
              "// limitations under the License.\n",
              "\n",
              "/**\n",
              " * @fileoverview Helpers for google.colab Python module.\n",
              " */\n",
              "(function(scope) {\n",
              "function span(text, styleAttributes = {}) {\n",
              "  const element = document.createElement('span');\n",
              "  element.textContent = text;\n",
              "  for (const key of Object.keys(styleAttributes)) {\n",
              "    element.style[key] = styleAttributes[key];\n",
              "  }\n",
              "  return element;\n",
              "}\n",
              "\n",
              "// Max number of bytes which will be uploaded at a time.\n",
              "const MAX_PAYLOAD_SIZE = 100 * 1024;\n",
              "\n",
              "function _uploadFiles(inputId, outputId) {\n",
              "  const steps = uploadFilesStep(inputId, outputId);\n",
              "  const outputElement = document.getElementById(outputId);\n",
              "  // Cache steps on the outputElement to make it available for the next call\n",
              "  // to uploadFilesContinue from Python.\n",
              "  outputElement.steps = steps;\n",
              "\n",
              "  return _uploadFilesContinue(outputId);\n",
              "}\n",
              "\n",
              "// This is roughly an async generator (not supported in the browser yet),\n",
              "// where there are multiple asynchronous steps and the Python side is going\n",
              "// to poll for completion of each step.\n",
              "// This uses a Promise to block the python side on completion of each step,\n",
              "// then passes the result of the previous step as the input to the next step.\n",
              "function _uploadFilesContinue(outputId) {\n",
              "  const outputElement = document.getElementById(outputId);\n",
              "  const steps = outputElement.steps;\n",
              "\n",
              "  const next = steps.next(outputElement.lastPromiseValue);\n",
              "  return Promise.resolve(next.value.promise).then((value) => {\n",
              "    // Cache the last promise value to make it available to the next\n",
              "    // step of the generator.\n",
              "    outputElement.lastPromiseValue = value;\n",
              "    return next.value.response;\n",
              "  });\n",
              "}\n",
              "\n",
              "/**\n",
              " * Generator function which is called between each async step of the upload\n",
              " * process.\n",
              " * @param {string} inputId Element ID of the input file picker element.\n",
              " * @param {string} outputId Element ID of the output display.\n",
              " * @return {!Iterable<!Object>} Iterable of next steps.\n",
              " */\n",
              "function* uploadFilesStep(inputId, outputId) {\n",
              "  const inputElement = document.getElementById(inputId);\n",
              "  inputElement.disabled = false;\n",
              "\n",
              "  const outputElement = document.getElementById(outputId);\n",
              "  outputElement.innerHTML = '';\n",
              "\n",
              "  const pickedPromise = new Promise((resolve) => {\n",
              "    inputElement.addEventListener('change', (e) => {\n",
              "      resolve(e.target.files);\n",
              "    });\n",
              "  });\n",
              "\n",
              "  const cancel = document.createElement('button');\n",
              "  inputElement.parentElement.appendChild(cancel);\n",
              "  cancel.textContent = 'Cancel upload';\n",
              "  const cancelPromise = new Promise((resolve) => {\n",
              "    cancel.onclick = () => {\n",
              "      resolve(null);\n",
              "    };\n",
              "  });\n",
              "\n",
              "  // Wait for the user to pick the files.\n",
              "  const files = yield {\n",
              "    promise: Promise.race([pickedPromise, cancelPromise]),\n",
              "    response: {\n",
              "      action: 'starting',\n",
              "    }\n",
              "  };\n",
              "\n",
              "  cancel.remove();\n",
              "\n",
              "  // Disable the input element since further picks are not allowed.\n",
              "  inputElement.disabled = true;\n",
              "\n",
              "  if (!files) {\n",
              "    return {\n",
              "      response: {\n",
              "        action: 'complete',\n",
              "      }\n",
              "    };\n",
              "  }\n",
              "\n",
              "  for (const file of files) {\n",
              "    const li = document.createElement('li');\n",
              "    li.append(span(file.name, {fontWeight: 'bold'}));\n",
              "    li.append(span(\n",
              "        `(${file.type || 'n/a'}) - ${file.size} bytes, ` +\n",
              "        `last modified: ${\n",
              "            file.lastModifiedDate ? file.lastModifiedDate.toLocaleDateString() :\n",
              "                                    'n/a'} - `));\n",
              "    const percent = span('0% done');\n",
              "    li.appendChild(percent);\n",
              "\n",
              "    outputElement.appendChild(li);\n",
              "\n",
              "    const fileDataPromise = new Promise((resolve) => {\n",
              "      const reader = new FileReader();\n",
              "      reader.onload = (e) => {\n",
              "        resolve(e.target.result);\n",
              "      };\n",
              "      reader.readAsArrayBuffer(file);\n",
              "    });\n",
              "    // Wait for the data to be ready.\n",
              "    let fileData = yield {\n",
              "      promise: fileDataPromise,\n",
              "      response: {\n",
              "        action: 'continue',\n",
              "      }\n",
              "    };\n",
              "\n",
              "    // Use a chunked sending to avoid message size limits. See b/62115660.\n",
              "    let position = 0;\n",
              "    do {\n",
              "      const length = Math.min(fileData.byteLength - position, MAX_PAYLOAD_SIZE);\n",
              "      const chunk = new Uint8Array(fileData, position, length);\n",
              "      position += length;\n",
              "\n",
              "      const base64 = btoa(String.fromCharCode.apply(null, chunk));\n",
              "      yield {\n",
              "        response: {\n",
              "          action: 'append',\n",
              "          file: file.name,\n",
              "          data: base64,\n",
              "        },\n",
              "      };\n",
              "\n",
              "      let percentDone = fileData.byteLength === 0 ?\n",
              "          100 :\n",
              "          Math.round((position / fileData.byteLength) * 100);\n",
              "      percent.textContent = `${percentDone}% done`;\n",
              "\n",
              "    } while (position < fileData.byteLength);\n",
              "  }\n",
              "\n",
              "  // All done.\n",
              "  yield {\n",
              "    response: {\n",
              "      action: 'complete',\n",
              "    }\n",
              "  };\n",
              "}\n",
              "\n",
              "scope.google = scope.google || {};\n",
              "scope.google.colab = scope.google.colab || {};\n",
              "scope.google.colab._files = {\n",
              "  _uploadFiles,\n",
              "  _uploadFilesContinue,\n",
              "};\n",
              "})(self);\n",
              "</script> "
            ]
          },
          "metadata": {}
        },
        {
          "output_type": "stream",
          "name": "stdout",
          "text": [
            "Saving yellow_tripdata_2023-01.parquet to yellow_tripdata_2023-01.parquet\n"
          ]
        }
      ]
    },
    {
      "cell_type": "code",
      "source": [
        "\n",
        "df = spark.read.parquet(\"yellow_tripdata_2023-01.parquet\")\n",
        "df.show(5)\n",
        "df.printSchema()\n"
      ],
      "metadata": {
        "colab": {
          "base_uri": "https://localhost:8080/",
          "height": 0
        },
        "id": "qwSUSOYgXOor",
        "outputId": "0755e666-a57f-475a-84d0-ce2a687b9adc"
      },
      "execution_count": 6,
      "outputs": [
        {
          "output_type": "stream",
          "name": "stdout",
          "text": [
            "+--------+--------------------+---------------------+---------------+-------------+----------+------------------+------------+------------+------------+-----------+-----+-------+----------+------------+---------------------+------------+--------------------+-----------+\n",
            "|VendorID|tpep_pickup_datetime|tpep_dropoff_datetime|passenger_count|trip_distance|RatecodeID|store_and_fwd_flag|PULocationID|DOLocationID|payment_type|fare_amount|extra|mta_tax|tip_amount|tolls_amount|improvement_surcharge|total_amount|congestion_surcharge|airport_fee|\n",
            "+--------+--------------------+---------------------+---------------+-------------+----------+------------------+------------+------------+------------+-----------+-----+-------+----------+------------+---------------------+------------+--------------------+-----------+\n",
            "|       2| 2023-01-01 00:32:10|  2023-01-01 00:40:36|            1.0|         0.97|       1.0|                 N|         161|         141|           2|        9.3|  1.0|    0.5|       0.0|         0.0|                  1.0|        14.3|                 2.5|        0.0|\n",
            "|       2| 2023-01-01 00:55:08|  2023-01-01 01:01:27|            1.0|          1.1|       1.0|                 N|          43|         237|           1|        7.9|  1.0|    0.5|       4.0|         0.0|                  1.0|        16.9|                 2.5|        0.0|\n",
            "|       2| 2023-01-01 00:25:04|  2023-01-01 00:37:49|            1.0|         2.51|       1.0|                 N|          48|         238|           1|       14.9|  1.0|    0.5|      15.0|         0.0|                  1.0|        34.9|                 2.5|        0.0|\n",
            "|       1| 2023-01-01 00:03:48|  2023-01-01 00:13:25|            0.0|          1.9|       1.0|                 N|         138|           7|           1|       12.1| 7.25|    0.5|       0.0|         0.0|                  1.0|       20.85|                 0.0|       1.25|\n",
            "|       2| 2023-01-01 00:10:29|  2023-01-01 00:21:19|            1.0|         1.43|       1.0|                 N|         107|          79|           1|       11.4|  1.0|    0.5|      3.28|         0.0|                  1.0|       19.68|                 2.5|        0.0|\n",
            "+--------+--------------------+---------------------+---------------+-------------+----------+------------------+------------+------------+------------+-----------+-----+-------+----------+------------+---------------------+------------+--------------------+-----------+\n",
            "only showing top 5 rows\n",
            "\n",
            "root\n",
            " |-- VendorID: long (nullable = true)\n",
            " |-- tpep_pickup_datetime: timestamp_ntz (nullable = true)\n",
            " |-- tpep_dropoff_datetime: timestamp_ntz (nullable = true)\n",
            " |-- passenger_count: double (nullable = true)\n",
            " |-- trip_distance: double (nullable = true)\n",
            " |-- RatecodeID: double (nullable = true)\n",
            " |-- store_and_fwd_flag: string (nullable = true)\n",
            " |-- PULocationID: long (nullable = true)\n",
            " |-- DOLocationID: long (nullable = true)\n",
            " |-- payment_type: long (nullable = true)\n",
            " |-- fare_amount: double (nullable = true)\n",
            " |-- extra: double (nullable = true)\n",
            " |-- mta_tax: double (nullable = true)\n",
            " |-- tip_amount: double (nullable = true)\n",
            " |-- tolls_amount: double (nullable = true)\n",
            " |-- improvement_surcharge: double (nullable = true)\n",
            " |-- total_amount: double (nullable = true)\n",
            " |-- congestion_surcharge: double (nullable = true)\n",
            " |-- airport_fee: double (nullable = true)\n",
            "\n"
          ]
        }
      ]
    },
    {
      "cell_type": "markdown",
      "source": [
        "\n",
        " Query 1. - Add a column named as \"\"Revenue\"\" into dataframe which is the sum of the below columns 'Fare_amount','Extra','MTA_tax','Improvement_surcharge','Tip_amount','Tolls_amount','Total_amount'"
      ],
      "metadata": {
        "id": "MryWR-Y3c_Ta"
      }
    },
    {
      "cell_type": "code",
      "source": [
        "from pyspark.sql.functions import col, round\n",
        "\n",
        "\n",
        "df_with_revenue = df.withColumn(\n",
        "    \"Revenue\",\n",
        "    round(\n",
        "        col(\"fare_amount\") +\n",
        "        col(\"extra\") +\n",
        "        col(\"mta_tax\") +\n",
        "        col(\"improvement_surcharge\") +\n",
        "        col(\"tip_amount\") +\n",
        "        col(\"tolls_amount\"),\n",
        "        2\n",
        "    )\n",
        ")\n",
        "\n",
        "df_with_revenue.select(\n",
        "    \"fare_amount\", \"extra\", \"mta_tax\", \"improvement_surcharge\",\n",
        "    \"tip_amount\", \"tolls_amount\", \"Revenue\"\n",
        ").show(10)\n"
      ],
      "metadata": {
        "colab": {
          "base_uri": "https://localhost:8080/",
          "height": 0
        },
        "id": "_GOkaO70XOsH",
        "outputId": "4428b2d9-a399-4c07-9ae7-ac5c5fd60710"
      },
      "execution_count": 7,
      "outputs": [
        {
          "output_type": "stream",
          "name": "stdout",
          "text": [
            "+-----------+-----+-------+---------------------+----------+------------+-------+\n",
            "|fare_amount|extra|mta_tax|improvement_surcharge|tip_amount|tolls_amount|Revenue|\n",
            "+-----------+-----+-------+---------------------+----------+------------+-------+\n",
            "|        9.3|  1.0|    0.5|                  1.0|       0.0|         0.0|   11.8|\n",
            "|        7.9|  1.0|    0.5|                  1.0|       4.0|         0.0|   14.4|\n",
            "|       14.9|  1.0|    0.5|                  1.0|      15.0|         0.0|   32.4|\n",
            "|       12.1| 7.25|    0.5|                  1.0|       0.0|         0.0|  20.85|\n",
            "|       11.4|  1.0|    0.5|                  1.0|      3.28|         0.0|  17.18|\n",
            "|       12.8|  1.0|    0.5|                  1.0|      10.0|         0.0|   25.3|\n",
            "|       12.1|  1.0|    0.5|                  1.0|      3.42|         0.0|  18.02|\n",
            "|       45.7|  1.0|    0.5|                  1.0|     10.74|         3.0|  61.94|\n",
            "|       17.7|  1.0|    0.5|                  1.0|      5.68|         0.0|  25.88|\n",
            "|       14.9|  1.0|    0.5|                  1.0|       0.0|         0.0|   17.4|\n",
            "+-----------+-----+-------+---------------------+----------+------------+-------+\n",
            "only showing top 10 rows\n",
            "\n"
          ]
        }
      ]
    },
    {
      "cell_type": "markdown",
      "source": [
        "Query 2. - Increasing count of total passengers in New York City by area"
      ],
      "metadata": {
        "id": "O9aER2kGdFEB"
      }
    },
    {
      "cell_type": "code",
      "source": [
        "from pyspark.sql.functions import sum as _sum\n",
        "\n",
        "area_passenger_count = df_with_revenue.groupBy(\"PULocationID\") \\\n",
        "    .agg(_sum(\"passenger_count\").alias(\"Total_Passengers\")) \\\n",
        "    .orderBy(\"Total_Passengers\", ascending=False)\n",
        "\n",
        "area_passenger_count.show(10)\n"
      ],
      "metadata": {
        "colab": {
          "base_uri": "https://localhost:8080/",
          "height": 0
        },
        "id": "cU-REFsvaOA-",
        "outputId": "dc36daf3-b3c6-4837-ab91-fbaabf3c12f3"
      },
      "execution_count": 8,
      "outputs": [
        {
          "output_type": "stream",
          "name": "stdout",
          "text": [
            "+------------+----------------+\n",
            "|PULocationID|Total_Passengers|\n",
            "+------------+----------------+\n",
            "|         132|        228407.0|\n",
            "|         237|        192476.0|\n",
            "|         161|        181236.0|\n",
            "|         236|        180238.0|\n",
            "|         186|        143349.0|\n",
            "|         230|        142150.0|\n",
            "|         162|        137405.0|\n",
            "|         142|        134096.0|\n",
            "|         138|        119617.0|\n",
            "|         239|        115799.0|\n",
            "+------------+----------------+\n",
            "only showing top 10 rows\n",
            "\n"
          ]
        }
      ]
    },
    {
      "cell_type": "markdown",
      "source": [
        "Query 3. - Realtime Average fare/total earning amount earned by 2 vendors"
      ],
      "metadata": {
        "id": "5AQvX1vXdKIc"
      }
    },
    {
      "cell_type": "code",
      "source": [
        "from pyspark.sql.functions import avg, sum as _sum\n",
        "\n",
        "\n",
        "vendor_stats = df_with_revenue.groupBy(\"VendorID\") \\\n",
        "    .agg(\n",
        "        avg(\"fare_amount\").alias(\"Average_Fare\"),\n",
        "        _sum(\"total_amount\").alias(\"Total_Earnings\")\n",
        "    ) \\\n",
        "    .orderBy(\"Total_Earnings\", ascending=False)\n",
        "\n",
        "vendor_stats.show()\n"
      ],
      "metadata": {
        "colab": {
          "base_uri": "https://localhost:8080/",
          "height": 0
        },
        "id": "X1wd_P86aODg",
        "outputId": "c86df313-c52e-4c91-a60a-b31dff415eb8"
      },
      "execution_count": 9,
      "outputs": [
        {
          "output_type": "stream",
          "name": "stdout",
          "text": [
            "+--------+------------------+-------------------+\n",
            "|VendorID|      Average_Fare|     Total_Earnings|\n",
            "+--------+------------------+-------------------+\n",
            "|       2|  18.7133974919165|6.155633746991244E7|\n",
            "|       1|17.429674993078745|2.130885475000763E7|\n",
            "+--------+------------------+-------------------+\n",
            "\n"
          ]
        }
      ]
    },
    {
      "cell_type": "markdown",
      "source": [
        "Query 4. - Moving Count of payments made by each payment mode"
      ],
      "metadata": {
        "id": "p2mbVFUFdP_A"
      }
    },
    {
      "cell_type": "code",
      "source": [
        "from pyspark.sql.functions import window\n",
        "\n",
        "payment_window_df = df_with_revenue.groupBy(\n",
        "    window(\"tpep_pickup_datetime\", \"1 hour\"),\n",
        "    \"payment_type\"\n",
        ").count().orderBy(\"window\")\n",
        "\n",
        "payment_window_df.show(10, truncate=False)\n"
      ],
      "metadata": {
        "colab": {
          "base_uri": "https://localhost:8080/",
          "height": 0
        },
        "id": "dpT4q0wBaOFr",
        "outputId": "90d5d861-765f-42bb-de34-7b83b1114033"
      },
      "execution_count": 10,
      "outputs": [
        {
          "output_type": "stream",
          "name": "stdout",
          "text": [
            "+------------------------------------------+------------+-----+\n",
            "|window                                    |payment_type|count|\n",
            "+------------------------------------------+------------+-----+\n",
            "|{2008-12-31 23:00:00, 2009-01-01 00:00:00}|2           |2    |\n",
            "|{2022-10-24 17:00:00, 2022-10-24 18:00:00}|2           |1    |\n",
            "|{2022-10-24 20:00:00, 2022-10-24 21:00:00}|1           |1    |\n",
            "|{2022-10-24 21:00:00, 2022-10-24 22:00:00}|1           |1    |\n",
            "|{2022-10-24 23:00:00, 2022-10-25 00:00:00}|1           |1    |\n",
            "|{2022-10-25 00:00:00, 2022-10-25 01:00:00}|2           |2    |\n",
            "|{2022-10-25 03:00:00, 2022-10-25 04:00:00}|1           |1    |\n",
            "|{2022-10-25 07:00:00, 2022-10-25 08:00:00}|1           |1    |\n",
            "|{2022-10-25 09:00:00, 2022-10-25 10:00:00}|2           |1    |\n",
            "|{2022-10-25 11:00:00, 2022-10-25 12:00:00}|1           |1    |\n",
            "+------------------------------------------+------------+-----+\n",
            "only showing top 10 rows\n",
            "\n"
          ]
        }
      ]
    },
    {
      "cell_type": "markdown",
      "source": [
        "Query 5. - Highest two gaining vendor's on a particular date with no of passenger and total distance by cab"
      ],
      "metadata": {
        "id": "wfj1Xp36de-8"
      }
    },
    {
      "cell_type": "code",
      "source": [
        "from pyspark.sql.functions import to_date\n",
        "\n",
        "filtered_df = df_with_revenue.filter(\n",
        "    to_date(\"tpep_pickup_datetime\") == \"2023-01-15\"\n",
        ")\n",
        "\n",
        "top_vendors = filtered_df.groupBy(\"VendorID\").agg(\n",
        "    _sum(\"total_amount\").alias(\"Total_Earnings\"),\n",
        "    _sum(\"passenger_count\").alias(\"Total_Passengers\"),\n",
        "    _sum(\"trip_distance\").alias(\"Total_Trip_Distance\")\n",
        ").orderBy(\"Total_Earnings\", ascending=False)\n",
        "\n",
        "top_vendors.show(2)\n"
      ],
      "metadata": {
        "colab": {
          "base_uri": "https://localhost:8080/",
          "height": 0
        },
        "id": "VCEJi2PraOI9",
        "outputId": "67b7e72c-d5a5-4cae-9107-4aa98324ed1d"
      },
      "execution_count": 11,
      "outputs": [
        {
          "output_type": "stream",
          "name": "stdout",
          "text": [
            "+--------+------------------+----------------+-------------------+\n",
            "|VendorID|    Total_Earnings|Total_Passengers|Total_Trip_Distance|\n",
            "+--------+------------------+----------------+-------------------+\n",
            "|       2|1982371.8499999905|        106011.0|   452629.900000001|\n",
            "|       1| 625710.4699999961|         31557.0|  80744.90000000077|\n",
            "+--------+------------------+----------------+-------------------+\n",
            "\n"
          ]
        }
      ]
    },
    {
      "cell_type": "markdown",
      "source": [
        "Query 6. - Most no of passenger between a route of two location."
      ],
      "metadata": {
        "id": "AHp_YFZCdplR"
      }
    },
    {
      "cell_type": "code",
      "source": [
        "from pyspark.sql.functions import concat_ws\n",
        "\n",
        "df_with_routes = df_with_revenue.withColumn(\n",
        "    \"Route\",\n",
        "    concat_ws(\" → \", df_with_revenue[\"PULocationID\"], df_with_revenue[\"DOLocationID\"])\n",
        ")\n",
        "\n",
        "\n",
        "top_routes = df_with_routes.groupBy(\"Route\").agg(\n",
        "    _sum(\"passenger_count\").alias(\"Total_Passengers\")\n",
        ").orderBy(\"Total_Passengers\", ascending=False)\n",
        "\n",
        "top_routes.show(10, truncate=False)\n"
      ],
      "metadata": {
        "colab": {
          "base_uri": "https://localhost:8080/",
          "height": 0
        },
        "id": "h_gOszsTaOjS",
        "outputId": "f4de4a6f-f9ce-4049-bb48-0ff6b8987253"
      },
      "execution_count": 12,
      "outputs": [
        {
          "output_type": "stream",
          "name": "stdout",
          "text": [
            "+---------+----------------+\n",
            "|Route    |Total_Passengers|\n",
            "+---------+----------------+\n",
            "|237 → 236|29549.0         |\n",
            "|236 → 237|24978.0         |\n",
            "|264 → 264|22053.0         |\n",
            "|236 → 236|19682.0         |\n",
            "|237 → 237|19091.0         |\n",
            "|161 → 237|12148.0         |\n",
            "|237 → 161|11890.0         |\n",
            "|142 → 239|11200.0         |\n",
            "|161 → 236|11063.0         |\n",
            "|239 → 238|10935.0         |\n",
            "+---------+----------------+\n",
            "only showing top 10 rows\n",
            "\n"
          ]
        }
      ]
    },
    {
      "cell_type": "markdown",
      "source": [
        "Query 7. - Get top pickup locations with most passengers in last 5/10 seconds."
      ],
      "metadata": {
        "id": "aakN7IAydtc0"
      }
    },
    {
      "cell_type": "code",
      "source": [
        "from pyspark.sql.functions import max as _max, col\n",
        "from pyspark.sql.functions import unix_timestamp\n",
        "\n",
        "max_time_row = df_with_revenue.select(_max(\"tpep_pickup_datetime\").alias(\"max_time\")).collect()[0]\n",
        "max_time = max_time_row[\"max_time\"]\n",
        "\n",
        "from datetime import timedelta\n",
        "lower_bound = max_time - timedelta(seconds=10)\n",
        "\n",
        "recent_trips = df_with_revenue.filter(\n",
        "    (col(\"tpep_pickup_datetime\") > lower_bound) & (col(\"tpep_pickup_datetime\") <= max_time)\n",
        ")\n",
        "\n",
        "top_recent_locations = recent_trips.groupBy(\"PULocationID\") \\\n",
        "    .agg(_sum(\"passenger_count\").alias(\"Total_Passengers\")) \\\n",
        "    .orderBy(\"Total_Passengers\", ascending=False)\n",
        "\n",
        "\n",
        "top_recent_locations.show(10)\n"
      ],
      "metadata": {
        "colab": {
          "base_uri": "https://localhost:8080/",
          "height": 0
        },
        "id": "_v4k_M6QaOlg",
        "outputId": "d277a91e-a775-4189-ed34-a68897ee4488"
      },
      "execution_count": 13,
      "outputs": [
        {
          "output_type": "stream",
          "name": "stdout",
          "text": [
            "+------------+----------------+\n",
            "|PULocationID|Total_Passengers|\n",
            "+------------+----------------+\n",
            "|         162|             1.0|\n",
            "+------------+----------------+\n",
            "\n"
          ]
        }
      ]
    },
    {
      "cell_type": "code",
      "source": [],
      "metadata": {
        "id": "q4sDGrbPaOoV"
      },
      "execution_count": null,
      "outputs": []
    }
  ]
}